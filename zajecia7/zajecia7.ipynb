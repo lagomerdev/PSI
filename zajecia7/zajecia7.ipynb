{
  "nbformat": 4,
  "nbformat_minor": 0,
  "metadata": {
    "colab": {
      "provenance": [],
      "gpuType": "V28"
    },
    "kernelspec": {
      "name": "ir",
      "display_name": "R"
    },
    "language_info": {
      "name": "R"
    },
    "accelerator": "TPU"
  },
  "cells": [
    {
      "cell_type": "markdown",
      "source": [
        "#Zajęcia 7\n",
        "\n"
      ],
      "metadata": {
        "id": "bDWKmkQ4QcS0"
      }
    },
    {
      "cell_type": "code",
      "source": [
        "rmarkdown::render(\"Zaj_6.5_Text_mining_BoW__Pełna_analiza_jednego_pliku_TOC_4.R\", output_format = \"html_document\")"
      ],
      "metadata": {
        "colab": {
          "base_uri": "https://localhost:8080/",
          "height": 1000
        },
        "id": "RNEQMIjgSfx7",
        "outputId": "e237ffc1-a7c7-420e-851a-d8c493bcc9fb"
      },
      "execution_count": 16,
      "outputs": [
        {
          "output_type": "stream",
          "name": "stderr",
          "text": [
            "\n",
            "\n",
            "processing file: Zaj_6.5_Text_mining_BoW__Pełna_analiza_jednego_pliku_TOC_4.spin.Rmd\n",
            "\n"
          ]
        },
        {
          "output_type": "stream",
          "name": "stdout",
          "text": [
            "1/45                   \n",
            "2/45 [unnamed-chunk-1] \n",
            "3/45                   \n",
            "4/45 [unnamed-chunk-2] \n",
            "5/45                   \n",
            "6/45 [unnamed-chunk-3] \n",
            "7/45                   \n",
            "8/45 [unnamed-chunk-4] \n",
            "9/45                   \n",
            "10/45 [unnamed-chunk-5] \n",
            "11/45                   \n",
            "12/45 [unnamed-chunk-6] \n",
            "13/45                   \n",
            "14/45 [unnamed-chunk-7] \n",
            "15/45                   \n",
            "16/45 [unnamed-chunk-8] \n",
            "17/45                   \n",
            "18/45 [unnamed-chunk-9] \n",
            "19/45                   \n",
            "20/45 [unnamed-chunk-10]\n",
            "21/45                   \n",
            "22/45 [unnamed-chunk-11]\n",
            "23/45                   \n",
            "24/45 [unnamed-chunk-12]\n",
            "25/45                   \n",
            "26/45 [unnamed-chunk-13]\n",
            "27/45                   \n",
            "28/45 [unnamed-chunk-14]\n",
            "29/45                   \n",
            "30/45 [unnamed-chunk-15]\n",
            "31/45                   \n",
            "32/45 [unnamed-chunk-16]\n",
            "33/45                   \n",
            "34/45 [unnamed-chunk-17]\n",
            "35/45                   \n",
            "36/45 [unnamed-chunk-18]\n",
            "37/45                   \n",
            "38/45 [unnamed-chunk-19]\n",
            "39/45                   \n",
            "40/45 [unnamed-chunk-20]\n",
            "41/45                   \n",
            "42/45 [unnamed-chunk-21]\n",
            "43/45                   \n",
            "44/45 [unnamed-chunk-22]\n",
            "45/45                   \n"
          ]
        },
        {
          "output_type": "stream",
          "name": "stderr",
          "text": [
            "output file: Zaj_6.5_Text_mining_BoW__Pełna_analiza_jednego_pliku_TOC_4.knit.md\n",
            "\n",
            "\n"
          ]
        },
        {
          "output_type": "stream",
          "name": "stdout",
          "text": [
            "/usr/bin/pandoc +RTS -K512m -RTS Zaj_6.5_Text_mining_BoW__Pełna_analiza_jednego_pliku_TOC_4.knit.md --to html4 --from markdown+autolink_bare_uris+tex_math_single_backslash --output Zaj_6.5_Text_mining_BoW__Pełna_analiza_jednego_pliku_TOC_4.html --lua-filter /usr/lib/R/site-library/rmarkdown/rmarkdown/lua/pagebreak.lua --lua-filter /usr/lib/R/site-library/rmarkdown/rmarkdown/lua/latex-div.lua --self-contained --variable bs3=TRUE --section-divs --table-of-contents --toc-depth 3 --variable toc_float=1 --variable toc_selectors=h1,h2,h3 --variable toc_smooth_scroll=1 --variable toc_print=1 --template /usr/lib/R/site-library/rmarkdown/rmd/h/default.html --highlight-style kate --number-sections --variable theme=spacelab --css custom.css --mathjax --variable 'mathjax-url=https://mathjax.rstudio.com/latest/MathJax.js?config=TeX-AMS-MML_HTMLorMML' --include-in-header /tmp/RtmpkgkzkB/rmarkdown-str12987be0d32d.html --variable code_folding=hide --variable code_menu=1 \n"
          ]
        },
        {
          "output_type": "error",
          "ename": "ERROR",
          "evalue": "Error: pandoc document conversion failed with error 99\n",
          "traceback": [
            "Error: pandoc document conversion failed with error 99\nTraceback:\n",
            "1. convert(output_file, run_citeproc)",
            "2. convert_it(output)",
            "3. convert_fun(output = output, input_files, pandoc_to, output_format$pandoc$from, \n .     citeproc, pandoc_args, !quiet)",
            "4. stop2(\"pandoc document conversion failed with error \", result)",
            "5. stop(..., call. = FALSE)",
            "6. .handleSimpleError(function (cnd) \n . {\n .     watcher$capture_plot_and_output()\n .     cnd <- sanitize_call(cnd)\n .     watcher$push(cnd)\n .     switch(on_error, continue = invokeRestart(\"eval_continue\"), \n .         stop = invokeRestart(\"eval_stop\"), error = NULL)\n . }, \"pandoc document conversion failed with error 99\", base::quote(NULL))"
          ]
        }
      ]
    },
    {
      "cell_type": "code",
      "source": [
        "rmarkdown::render(\n",
        "  \"Zaj_6.5_Text_mining_BoW__Pełna_analiza_jednego_pliku_TOC_4.R\",\n",
        "  output_format = rmarkdown::html_document(\n",
        "    toc = TRUE,\n",
        "    toc_depth = 3,\n",
        "    toc_float = TRUE,\n",
        "    number_sections = TRUE,\n",
        "    theme = \"spacelab\",\n",
        "    highlight = \"kate\",\n",
        "    code_folding = \"hide\"\n",
        "  ),\n",
        "  output_file = \"Zaj_6.5_Text_mining_BoW__Pełna_analiza_jednego_pliku_TOC_4.html\",\n",
        "  clean = TRUE,\n",
        "  quiet = FALSE\n",
        ")\n"
      ],
      "metadata": {
        "colab": {
          "base_uri": "https://localhost:8080/"
        },
        "id": "FrgFqD0an_x2",
        "outputId": "7e70fe85-f8a6-46d3-8105-6170da3cedd5"
      },
      "execution_count": 19,
      "outputs": [
        {
          "output_type": "stream",
          "name": "stderr",
          "text": [
            "\n",
            "\n",
            "processing file: Zaj_6.5_Text_mining_BoW__Pełna_analiza_jednego_pliku_TOC_4.spin.Rmd\n",
            "\n"
          ]
        },
        {
          "output_type": "stream",
          "name": "stdout",
          "text": [
            "1/45                   \n",
            "2/45 [unnamed-chunk-1] \n",
            "3/45                   \n",
            "4/45 [unnamed-chunk-2] \n",
            "5/45                   \n",
            "6/45 [unnamed-chunk-3] \n",
            "7/45                   \n",
            "8/45 [unnamed-chunk-4] \n",
            "9/45                   \n",
            "10/45 [unnamed-chunk-5] \n",
            "11/45                   \n",
            "12/45 [unnamed-chunk-6] \n",
            "13/45                   \n",
            "14/45 [unnamed-chunk-7] \n",
            "15/45                   \n",
            "16/45 [unnamed-chunk-8] \n",
            "17/45                   \n",
            "18/45 [unnamed-chunk-9] \n",
            "19/45                   \n",
            "20/45 [unnamed-chunk-10]\n",
            "21/45                   \n",
            "22/45 [unnamed-chunk-11]\n",
            "23/45                   \n",
            "24/45 [unnamed-chunk-12]\n",
            "25/45                   \n",
            "26/45 [unnamed-chunk-13]\n",
            "27/45                   \n",
            "28/45 [unnamed-chunk-14]\n",
            "29/45                   \n",
            "30/45 [unnamed-chunk-15]\n",
            "31/45                   \n",
            "32/45 [unnamed-chunk-16]\n",
            "33/45                   \n",
            "34/45 [unnamed-chunk-17]\n",
            "35/45                   \n",
            "36/45 [unnamed-chunk-18]\n",
            "37/45                   \n",
            "38/45 [unnamed-chunk-19]\n",
            "39/45                   \n",
            "40/45 [unnamed-chunk-20]\n",
            "41/45                   \n",
            "42/45 [unnamed-chunk-21]\n",
            "43/45                   \n",
            "44/45 [unnamed-chunk-22]\n",
            "45/45                   \n"
          ]
        },
        {
          "output_type": "stream",
          "name": "stderr",
          "text": [
            "output file: Zaj_6.5_Text_mining_BoW__Pełna_analiza_jednego_pliku_TOC_4.knit.md\n",
            "\n",
            "\n"
          ]
        },
        {
          "output_type": "stream",
          "name": "stdout",
          "text": [
            "/usr/bin/pandoc +RTS -K512m -RTS Zaj_6.5_Text_mining_BoW__Pełna_analiza_jednego_pliku_TOC_4.knit.md --to html4 --from markdown+autolink_bare_uris+tex_math_single_backslash --output Zaj_6.5_Text_mining_BoW__Pełna_analiza_jednego_pliku_TOC_4.html --lua-filter /usr/lib/R/site-library/rmarkdown/rmarkdown/lua/pagebreak.lua --lua-filter /usr/lib/R/site-library/rmarkdown/rmarkdown/lua/latex-div.lua --self-contained --variable bs3=TRUE --section-divs --table-of-contents --toc-depth 3 --variable toc_float=1 --variable toc_selectors=h1,h2,h3 --variable toc_collapsed=1 --variable toc_smooth_scroll=1 --variable toc_print=1 --template /usr/lib/R/site-library/rmarkdown/rmd/h/default.html --highlight-style kate --number-sections --variable theme=spacelab --mathjax --variable 'mathjax-url=https://mathjax.rstudio.com/latest/MathJax.js?config=TeX-AMS-MML_HTMLorMML' --include-in-header /tmp/RtmpkgkzkB/rmarkdown-str1298647676ef.html --variable code_folding=hide --variable code_menu=1 \n"
          ]
        },
        {
          "output_type": "stream",
          "name": "stderr",
          "text": [
            "\n",
            "Output created: Zaj_6.5_Text_mining_BoW__Pełna_analiza_jednego_pliku_TOC_4.html\n",
            "\n"
          ]
        }
      ]
    },
    {
      "cell_type": "code",
      "source": [
        "# Install required libraries (if not already installed)\n",
        "packages <- c(\n",
        "  \"tm\",\n",
        "  \"tidytext\",\n",
        "  \"stringr\",\n",
        "  \"wordcloud\",\n",
        "  \"RColorBrewer\",\n",
        "  \"ggplot2\",\n",
        "  \"SnowballC\",\n",
        "  \"SentimentAnalysis\",\n",
        "  \"ggthemes\",\n",
        "  \"tidyverse\"\n",
        ")\n",
        "\n",
        "# Install any missing packages\n",
        "installed <- rownames(installed.packages())\n",
        "for (pkg in packages) {\n",
        "  if (!pkg %in% installed) {\n",
        "    install.packages(pkg, dependencies = TRUE)\n",
        "  }\n",
        "}\n",
        "\n",
        "# Load all packages\n",
        "lapply(packages, library, character.only = TRUE)"
      ],
      "metadata": {
        "colab": {
          "base_uri": "https://localhost:8080/",
          "height": 219
        },
        "id": "UrSI9-VkYYKm",
        "outputId": "68f1dfbd-d670-4ae2-8eeb-dbba4113fe7e"
      },
      "execution_count": 17,
      "outputs": [
        {
          "output_type": "display_data",
          "data": {
            "text/html": [
              "<ol>\n",
              "\t<li><style>\n",
              ".list-inline {list-style: none; margin:0; padding: 0}\n",
              ".list-inline>li {display: inline-block}\n",
              ".list-inline>li:not(:last-child)::after {content: \"\\00b7\"; padding: 0 .5ex}\n",
              "</style>\n",
              "<ol class=list-inline><li>'lubridate'</li><li>'forcats'</li><li>'dplyr'</li><li>'purrr'</li><li>'readr'</li><li>'tidyr'</li><li>'tibble'</li><li>'tidyverse'</li><li>'ggthemes'</li><li>'SentimentAnalysis'</li><li>'SnowballC'</li><li>'ggplot2'</li><li>'wordcloud'</li><li>'RColorBrewer'</li><li>'stringr'</li><li>'tidytext'</li><li>'tm'</li><li>'NLP'</li><li>'stats'</li><li>'graphics'</li><li>'grDevices'</li><li>'utils'</li><li>'datasets'</li><li>'methods'</li><li>'base'</li></ol>\n",
              "</li>\n",
              "\t<li><style>\n",
              ".list-inline {list-style: none; margin:0; padding: 0}\n",
              ".list-inline>li {display: inline-block}\n",
              ".list-inline>li:not(:last-child)::after {content: \"\\00b7\"; padding: 0 .5ex}\n",
              "</style>\n",
              "<ol class=list-inline><li>'lubridate'</li><li>'forcats'</li><li>'dplyr'</li><li>'purrr'</li><li>'readr'</li><li>'tidyr'</li><li>'tibble'</li><li>'tidyverse'</li><li>'ggthemes'</li><li>'SentimentAnalysis'</li><li>'SnowballC'</li><li>'ggplot2'</li><li>'wordcloud'</li><li>'RColorBrewer'</li><li>'stringr'</li><li>'tidytext'</li><li>'tm'</li><li>'NLP'</li><li>'stats'</li><li>'graphics'</li><li>'grDevices'</li><li>'utils'</li><li>'datasets'</li><li>'methods'</li><li>'base'</li></ol>\n",
              "</li>\n",
              "\t<li><style>\n",
              ".list-inline {list-style: none; margin:0; padding: 0}\n",
              ".list-inline>li {display: inline-block}\n",
              ".list-inline>li:not(:last-child)::after {content: \"\\00b7\"; padding: 0 .5ex}\n",
              "</style>\n",
              "<ol class=list-inline><li>'lubridate'</li><li>'forcats'</li><li>'dplyr'</li><li>'purrr'</li><li>'readr'</li><li>'tidyr'</li><li>'tibble'</li><li>'tidyverse'</li><li>'ggthemes'</li><li>'SentimentAnalysis'</li><li>'SnowballC'</li><li>'ggplot2'</li><li>'wordcloud'</li><li>'RColorBrewer'</li><li>'stringr'</li><li>'tidytext'</li><li>'tm'</li><li>'NLP'</li><li>'stats'</li><li>'graphics'</li><li>'grDevices'</li><li>'utils'</li><li>'datasets'</li><li>'methods'</li><li>'base'</li></ol>\n",
              "</li>\n",
              "\t<li><style>\n",
              ".list-inline {list-style: none; margin:0; padding: 0}\n",
              ".list-inline>li {display: inline-block}\n",
              ".list-inline>li:not(:last-child)::after {content: \"\\00b7\"; padding: 0 .5ex}\n",
              "</style>\n",
              "<ol class=list-inline><li>'lubridate'</li><li>'forcats'</li><li>'dplyr'</li><li>'purrr'</li><li>'readr'</li><li>'tidyr'</li><li>'tibble'</li><li>'tidyverse'</li><li>'ggthemes'</li><li>'SentimentAnalysis'</li><li>'SnowballC'</li><li>'ggplot2'</li><li>'wordcloud'</li><li>'RColorBrewer'</li><li>'stringr'</li><li>'tidytext'</li><li>'tm'</li><li>'NLP'</li><li>'stats'</li><li>'graphics'</li><li>'grDevices'</li><li>'utils'</li><li>'datasets'</li><li>'methods'</li><li>'base'</li></ol>\n",
              "</li>\n",
              "\t<li><style>\n",
              ".list-inline {list-style: none; margin:0; padding: 0}\n",
              ".list-inline>li {display: inline-block}\n",
              ".list-inline>li:not(:last-child)::after {content: \"\\00b7\"; padding: 0 .5ex}\n",
              "</style>\n",
              "<ol class=list-inline><li>'lubridate'</li><li>'forcats'</li><li>'dplyr'</li><li>'purrr'</li><li>'readr'</li><li>'tidyr'</li><li>'tibble'</li><li>'tidyverse'</li><li>'ggthemes'</li><li>'SentimentAnalysis'</li><li>'SnowballC'</li><li>'ggplot2'</li><li>'wordcloud'</li><li>'RColorBrewer'</li><li>'stringr'</li><li>'tidytext'</li><li>'tm'</li><li>'NLP'</li><li>'stats'</li><li>'graphics'</li><li>'grDevices'</li><li>'utils'</li><li>'datasets'</li><li>'methods'</li><li>'base'</li></ol>\n",
              "</li>\n",
              "\t<li><style>\n",
              ".list-inline {list-style: none; margin:0; padding: 0}\n",
              ".list-inline>li {display: inline-block}\n",
              ".list-inline>li:not(:last-child)::after {content: \"\\00b7\"; padding: 0 .5ex}\n",
              "</style>\n",
              "<ol class=list-inline><li>'lubridate'</li><li>'forcats'</li><li>'dplyr'</li><li>'purrr'</li><li>'readr'</li><li>'tidyr'</li><li>'tibble'</li><li>'tidyverse'</li><li>'ggthemes'</li><li>'SentimentAnalysis'</li><li>'SnowballC'</li><li>'ggplot2'</li><li>'wordcloud'</li><li>'RColorBrewer'</li><li>'stringr'</li><li>'tidytext'</li><li>'tm'</li><li>'NLP'</li><li>'stats'</li><li>'graphics'</li><li>'grDevices'</li><li>'utils'</li><li>'datasets'</li><li>'methods'</li><li>'base'</li></ol>\n",
              "</li>\n",
              "\t<li><style>\n",
              ".list-inline {list-style: none; margin:0; padding: 0}\n",
              ".list-inline>li {display: inline-block}\n",
              ".list-inline>li:not(:last-child)::after {content: \"\\00b7\"; padding: 0 .5ex}\n",
              "</style>\n",
              "<ol class=list-inline><li>'lubridate'</li><li>'forcats'</li><li>'dplyr'</li><li>'purrr'</li><li>'readr'</li><li>'tidyr'</li><li>'tibble'</li><li>'tidyverse'</li><li>'ggthemes'</li><li>'SentimentAnalysis'</li><li>'SnowballC'</li><li>'ggplot2'</li><li>'wordcloud'</li><li>'RColorBrewer'</li><li>'stringr'</li><li>'tidytext'</li><li>'tm'</li><li>'NLP'</li><li>'stats'</li><li>'graphics'</li><li>'grDevices'</li><li>'utils'</li><li>'datasets'</li><li>'methods'</li><li>'base'</li></ol>\n",
              "</li>\n",
              "\t<li><style>\n",
              ".list-inline {list-style: none; margin:0; padding: 0}\n",
              ".list-inline>li {display: inline-block}\n",
              ".list-inline>li:not(:last-child)::after {content: \"\\00b7\"; padding: 0 .5ex}\n",
              "</style>\n",
              "<ol class=list-inline><li>'lubridate'</li><li>'forcats'</li><li>'dplyr'</li><li>'purrr'</li><li>'readr'</li><li>'tidyr'</li><li>'tibble'</li><li>'tidyverse'</li><li>'ggthemes'</li><li>'SentimentAnalysis'</li><li>'SnowballC'</li><li>'ggplot2'</li><li>'wordcloud'</li><li>'RColorBrewer'</li><li>'stringr'</li><li>'tidytext'</li><li>'tm'</li><li>'NLP'</li><li>'stats'</li><li>'graphics'</li><li>'grDevices'</li><li>'utils'</li><li>'datasets'</li><li>'methods'</li><li>'base'</li></ol>\n",
              "</li>\n",
              "\t<li><style>\n",
              ".list-inline {list-style: none; margin:0; padding: 0}\n",
              ".list-inline>li {display: inline-block}\n",
              ".list-inline>li:not(:last-child)::after {content: \"\\00b7\"; padding: 0 .5ex}\n",
              "</style>\n",
              "<ol class=list-inline><li>'lubridate'</li><li>'forcats'</li><li>'dplyr'</li><li>'purrr'</li><li>'readr'</li><li>'tidyr'</li><li>'tibble'</li><li>'tidyverse'</li><li>'ggthemes'</li><li>'SentimentAnalysis'</li><li>'SnowballC'</li><li>'ggplot2'</li><li>'wordcloud'</li><li>'RColorBrewer'</li><li>'stringr'</li><li>'tidytext'</li><li>'tm'</li><li>'NLP'</li><li>'stats'</li><li>'graphics'</li><li>'grDevices'</li><li>'utils'</li><li>'datasets'</li><li>'methods'</li><li>'base'</li></ol>\n",
              "</li>\n",
              "\t<li><style>\n",
              ".list-inline {list-style: none; margin:0; padding: 0}\n",
              ".list-inline>li {display: inline-block}\n",
              ".list-inline>li:not(:last-child)::after {content: \"\\00b7\"; padding: 0 .5ex}\n",
              "</style>\n",
              "<ol class=list-inline><li>'lubridate'</li><li>'forcats'</li><li>'dplyr'</li><li>'purrr'</li><li>'readr'</li><li>'tidyr'</li><li>'tibble'</li><li>'tidyverse'</li><li>'ggthemes'</li><li>'SentimentAnalysis'</li><li>'SnowballC'</li><li>'ggplot2'</li><li>'wordcloud'</li><li>'RColorBrewer'</li><li>'stringr'</li><li>'tidytext'</li><li>'tm'</li><li>'NLP'</li><li>'stats'</li><li>'graphics'</li><li>'grDevices'</li><li>'utils'</li><li>'datasets'</li><li>'methods'</li><li>'base'</li></ol>\n",
              "</li>\n",
              "</ol>\n"
            ],
            "text/markdown": "1. 1. 'lubridate'\n2. 'forcats'\n3. 'dplyr'\n4. 'purrr'\n5. 'readr'\n6. 'tidyr'\n7. 'tibble'\n8. 'tidyverse'\n9. 'ggthemes'\n10. 'SentimentAnalysis'\n11. 'SnowballC'\n12. 'ggplot2'\n13. 'wordcloud'\n14. 'RColorBrewer'\n15. 'stringr'\n16. 'tidytext'\n17. 'tm'\n18. 'NLP'\n19. 'stats'\n20. 'graphics'\n21. 'grDevices'\n22. 'utils'\n23. 'datasets'\n24. 'methods'\n25. 'base'\n\n\n\n2. 1. 'lubridate'\n2. 'forcats'\n3. 'dplyr'\n4. 'purrr'\n5. 'readr'\n6. 'tidyr'\n7. 'tibble'\n8. 'tidyverse'\n9. 'ggthemes'\n10. 'SentimentAnalysis'\n11. 'SnowballC'\n12. 'ggplot2'\n13. 'wordcloud'\n14. 'RColorBrewer'\n15. 'stringr'\n16. 'tidytext'\n17. 'tm'\n18. 'NLP'\n19. 'stats'\n20. 'graphics'\n21. 'grDevices'\n22. 'utils'\n23. 'datasets'\n24. 'methods'\n25. 'base'\n\n\n\n3. 1. 'lubridate'\n2. 'forcats'\n3. 'dplyr'\n4. 'purrr'\n5. 'readr'\n6. 'tidyr'\n7. 'tibble'\n8. 'tidyverse'\n9. 'ggthemes'\n10. 'SentimentAnalysis'\n11. 'SnowballC'\n12. 'ggplot2'\n13. 'wordcloud'\n14. 'RColorBrewer'\n15. 'stringr'\n16. 'tidytext'\n17. 'tm'\n18. 'NLP'\n19. 'stats'\n20. 'graphics'\n21. 'grDevices'\n22. 'utils'\n23. 'datasets'\n24. 'methods'\n25. 'base'\n\n\n\n4. 1. 'lubridate'\n2. 'forcats'\n3. 'dplyr'\n4. 'purrr'\n5. 'readr'\n6. 'tidyr'\n7. 'tibble'\n8. 'tidyverse'\n9. 'ggthemes'\n10. 'SentimentAnalysis'\n11. 'SnowballC'\n12. 'ggplot2'\n13. 'wordcloud'\n14. 'RColorBrewer'\n15. 'stringr'\n16. 'tidytext'\n17. 'tm'\n18. 'NLP'\n19. 'stats'\n20. 'graphics'\n21. 'grDevices'\n22. 'utils'\n23. 'datasets'\n24. 'methods'\n25. 'base'\n\n\n\n5. 1. 'lubridate'\n2. 'forcats'\n3. 'dplyr'\n4. 'purrr'\n5. 'readr'\n6. 'tidyr'\n7. 'tibble'\n8. 'tidyverse'\n9. 'ggthemes'\n10. 'SentimentAnalysis'\n11. 'SnowballC'\n12. 'ggplot2'\n13. 'wordcloud'\n14. 'RColorBrewer'\n15. 'stringr'\n16. 'tidytext'\n17. 'tm'\n18. 'NLP'\n19. 'stats'\n20. 'graphics'\n21. 'grDevices'\n22. 'utils'\n23. 'datasets'\n24. 'methods'\n25. 'base'\n\n\n\n6. 1. 'lubridate'\n2. 'forcats'\n3. 'dplyr'\n4. 'purrr'\n5. 'readr'\n6. 'tidyr'\n7. 'tibble'\n8. 'tidyverse'\n9. 'ggthemes'\n10. 'SentimentAnalysis'\n11. 'SnowballC'\n12. 'ggplot2'\n13. 'wordcloud'\n14. 'RColorBrewer'\n15. 'stringr'\n16. 'tidytext'\n17. 'tm'\n18. 'NLP'\n19. 'stats'\n20. 'graphics'\n21. 'grDevices'\n22. 'utils'\n23. 'datasets'\n24. 'methods'\n25. 'base'\n\n\n\n7. 1. 'lubridate'\n2. 'forcats'\n3. 'dplyr'\n4. 'purrr'\n5. 'readr'\n6. 'tidyr'\n7. 'tibble'\n8. 'tidyverse'\n9. 'ggthemes'\n10. 'SentimentAnalysis'\n11. 'SnowballC'\n12. 'ggplot2'\n13. 'wordcloud'\n14. 'RColorBrewer'\n15. 'stringr'\n16. 'tidytext'\n17. 'tm'\n18. 'NLP'\n19. 'stats'\n20. 'graphics'\n21. 'grDevices'\n22. 'utils'\n23. 'datasets'\n24. 'methods'\n25. 'base'\n\n\n\n8. 1. 'lubridate'\n2. 'forcats'\n3. 'dplyr'\n4. 'purrr'\n5. 'readr'\n6. 'tidyr'\n7. 'tibble'\n8. 'tidyverse'\n9. 'ggthemes'\n10. 'SentimentAnalysis'\n11. 'SnowballC'\n12. 'ggplot2'\n13. 'wordcloud'\n14. 'RColorBrewer'\n15. 'stringr'\n16. 'tidytext'\n17. 'tm'\n18. 'NLP'\n19. 'stats'\n20. 'graphics'\n21. 'grDevices'\n22. 'utils'\n23. 'datasets'\n24. 'methods'\n25. 'base'\n\n\n\n9. 1. 'lubridate'\n2. 'forcats'\n3. 'dplyr'\n4. 'purrr'\n5. 'readr'\n6. 'tidyr'\n7. 'tibble'\n8. 'tidyverse'\n9. 'ggthemes'\n10. 'SentimentAnalysis'\n11. 'SnowballC'\n12. 'ggplot2'\n13. 'wordcloud'\n14. 'RColorBrewer'\n15. 'stringr'\n16. 'tidytext'\n17. 'tm'\n18. 'NLP'\n19. 'stats'\n20. 'graphics'\n21. 'grDevices'\n22. 'utils'\n23. 'datasets'\n24. 'methods'\n25. 'base'\n\n\n\n10. 1. 'lubridate'\n2. 'forcats'\n3. 'dplyr'\n4. 'purrr'\n5. 'readr'\n6. 'tidyr'\n7. 'tibble'\n8. 'tidyverse'\n9. 'ggthemes'\n10. 'SentimentAnalysis'\n11. 'SnowballC'\n12. 'ggplot2'\n13. 'wordcloud'\n14. 'RColorBrewer'\n15. 'stringr'\n16. 'tidytext'\n17. 'tm'\n18. 'NLP'\n19. 'stats'\n20. 'graphics'\n21. 'grDevices'\n22. 'utils'\n23. 'datasets'\n24. 'methods'\n25. 'base'\n\n\n\n\n\n",
            "text/latex": "\\begin{enumerate}\n\\item \\begin{enumerate*}\n\\item 'lubridate'\n\\item 'forcats'\n\\item 'dplyr'\n\\item 'purrr'\n\\item 'readr'\n\\item 'tidyr'\n\\item 'tibble'\n\\item 'tidyverse'\n\\item 'ggthemes'\n\\item 'SentimentAnalysis'\n\\item 'SnowballC'\n\\item 'ggplot2'\n\\item 'wordcloud'\n\\item 'RColorBrewer'\n\\item 'stringr'\n\\item 'tidytext'\n\\item 'tm'\n\\item 'NLP'\n\\item 'stats'\n\\item 'graphics'\n\\item 'grDevices'\n\\item 'utils'\n\\item 'datasets'\n\\item 'methods'\n\\item 'base'\n\\end{enumerate*}\n\n\\item \\begin{enumerate*}\n\\item 'lubridate'\n\\item 'forcats'\n\\item 'dplyr'\n\\item 'purrr'\n\\item 'readr'\n\\item 'tidyr'\n\\item 'tibble'\n\\item 'tidyverse'\n\\item 'ggthemes'\n\\item 'SentimentAnalysis'\n\\item 'SnowballC'\n\\item 'ggplot2'\n\\item 'wordcloud'\n\\item 'RColorBrewer'\n\\item 'stringr'\n\\item 'tidytext'\n\\item 'tm'\n\\item 'NLP'\n\\item 'stats'\n\\item 'graphics'\n\\item 'grDevices'\n\\item 'utils'\n\\item 'datasets'\n\\item 'methods'\n\\item 'base'\n\\end{enumerate*}\n\n\\item \\begin{enumerate*}\n\\item 'lubridate'\n\\item 'forcats'\n\\item 'dplyr'\n\\item 'purrr'\n\\item 'readr'\n\\item 'tidyr'\n\\item 'tibble'\n\\item 'tidyverse'\n\\item 'ggthemes'\n\\item 'SentimentAnalysis'\n\\item 'SnowballC'\n\\item 'ggplot2'\n\\item 'wordcloud'\n\\item 'RColorBrewer'\n\\item 'stringr'\n\\item 'tidytext'\n\\item 'tm'\n\\item 'NLP'\n\\item 'stats'\n\\item 'graphics'\n\\item 'grDevices'\n\\item 'utils'\n\\item 'datasets'\n\\item 'methods'\n\\item 'base'\n\\end{enumerate*}\n\n\\item \\begin{enumerate*}\n\\item 'lubridate'\n\\item 'forcats'\n\\item 'dplyr'\n\\item 'purrr'\n\\item 'readr'\n\\item 'tidyr'\n\\item 'tibble'\n\\item 'tidyverse'\n\\item 'ggthemes'\n\\item 'SentimentAnalysis'\n\\item 'SnowballC'\n\\item 'ggplot2'\n\\item 'wordcloud'\n\\item 'RColorBrewer'\n\\item 'stringr'\n\\item 'tidytext'\n\\item 'tm'\n\\item 'NLP'\n\\item 'stats'\n\\item 'graphics'\n\\item 'grDevices'\n\\item 'utils'\n\\item 'datasets'\n\\item 'methods'\n\\item 'base'\n\\end{enumerate*}\n\n\\item \\begin{enumerate*}\n\\item 'lubridate'\n\\item 'forcats'\n\\item 'dplyr'\n\\item 'purrr'\n\\item 'readr'\n\\item 'tidyr'\n\\item 'tibble'\n\\item 'tidyverse'\n\\item 'ggthemes'\n\\item 'SentimentAnalysis'\n\\item 'SnowballC'\n\\item 'ggplot2'\n\\item 'wordcloud'\n\\item 'RColorBrewer'\n\\item 'stringr'\n\\item 'tidytext'\n\\item 'tm'\n\\item 'NLP'\n\\item 'stats'\n\\item 'graphics'\n\\item 'grDevices'\n\\item 'utils'\n\\item 'datasets'\n\\item 'methods'\n\\item 'base'\n\\end{enumerate*}\n\n\\item \\begin{enumerate*}\n\\item 'lubridate'\n\\item 'forcats'\n\\item 'dplyr'\n\\item 'purrr'\n\\item 'readr'\n\\item 'tidyr'\n\\item 'tibble'\n\\item 'tidyverse'\n\\item 'ggthemes'\n\\item 'SentimentAnalysis'\n\\item 'SnowballC'\n\\item 'ggplot2'\n\\item 'wordcloud'\n\\item 'RColorBrewer'\n\\item 'stringr'\n\\item 'tidytext'\n\\item 'tm'\n\\item 'NLP'\n\\item 'stats'\n\\item 'graphics'\n\\item 'grDevices'\n\\item 'utils'\n\\item 'datasets'\n\\item 'methods'\n\\item 'base'\n\\end{enumerate*}\n\n\\item \\begin{enumerate*}\n\\item 'lubridate'\n\\item 'forcats'\n\\item 'dplyr'\n\\item 'purrr'\n\\item 'readr'\n\\item 'tidyr'\n\\item 'tibble'\n\\item 'tidyverse'\n\\item 'ggthemes'\n\\item 'SentimentAnalysis'\n\\item 'SnowballC'\n\\item 'ggplot2'\n\\item 'wordcloud'\n\\item 'RColorBrewer'\n\\item 'stringr'\n\\item 'tidytext'\n\\item 'tm'\n\\item 'NLP'\n\\item 'stats'\n\\item 'graphics'\n\\item 'grDevices'\n\\item 'utils'\n\\item 'datasets'\n\\item 'methods'\n\\item 'base'\n\\end{enumerate*}\n\n\\item \\begin{enumerate*}\n\\item 'lubridate'\n\\item 'forcats'\n\\item 'dplyr'\n\\item 'purrr'\n\\item 'readr'\n\\item 'tidyr'\n\\item 'tibble'\n\\item 'tidyverse'\n\\item 'ggthemes'\n\\item 'SentimentAnalysis'\n\\item 'SnowballC'\n\\item 'ggplot2'\n\\item 'wordcloud'\n\\item 'RColorBrewer'\n\\item 'stringr'\n\\item 'tidytext'\n\\item 'tm'\n\\item 'NLP'\n\\item 'stats'\n\\item 'graphics'\n\\item 'grDevices'\n\\item 'utils'\n\\item 'datasets'\n\\item 'methods'\n\\item 'base'\n\\end{enumerate*}\n\n\\item \\begin{enumerate*}\n\\item 'lubridate'\n\\item 'forcats'\n\\item 'dplyr'\n\\item 'purrr'\n\\item 'readr'\n\\item 'tidyr'\n\\item 'tibble'\n\\item 'tidyverse'\n\\item 'ggthemes'\n\\item 'SentimentAnalysis'\n\\item 'SnowballC'\n\\item 'ggplot2'\n\\item 'wordcloud'\n\\item 'RColorBrewer'\n\\item 'stringr'\n\\item 'tidytext'\n\\item 'tm'\n\\item 'NLP'\n\\item 'stats'\n\\item 'graphics'\n\\item 'grDevices'\n\\item 'utils'\n\\item 'datasets'\n\\item 'methods'\n\\item 'base'\n\\end{enumerate*}\n\n\\item \\begin{enumerate*}\n\\item 'lubridate'\n\\item 'forcats'\n\\item 'dplyr'\n\\item 'purrr'\n\\item 'readr'\n\\item 'tidyr'\n\\item 'tibble'\n\\item 'tidyverse'\n\\item 'ggthemes'\n\\item 'SentimentAnalysis'\n\\item 'SnowballC'\n\\item 'ggplot2'\n\\item 'wordcloud'\n\\item 'RColorBrewer'\n\\item 'stringr'\n\\item 'tidytext'\n\\item 'tm'\n\\item 'NLP'\n\\item 'stats'\n\\item 'graphics'\n\\item 'grDevices'\n\\item 'utils'\n\\item 'datasets'\n\\item 'methods'\n\\item 'base'\n\\end{enumerate*}\n\n\\end{enumerate}\n",
            "text/plain": [
              "[[1]]\n",
              " [1] \"lubridate\"         \"forcats\"           \"dplyr\"            \n",
              " [4] \"purrr\"             \"readr\"             \"tidyr\"            \n",
              " [7] \"tibble\"            \"tidyverse\"         \"ggthemes\"         \n",
              "[10] \"SentimentAnalysis\" \"SnowballC\"         \"ggplot2\"          \n",
              "[13] \"wordcloud\"         \"RColorBrewer\"      \"stringr\"          \n",
              "[16] \"tidytext\"          \"tm\"                \"NLP\"              \n",
              "[19] \"stats\"             \"graphics\"          \"grDevices\"        \n",
              "[22] \"utils\"             \"datasets\"          \"methods\"          \n",
              "[25] \"base\"             \n",
              "\n",
              "[[2]]\n",
              " [1] \"lubridate\"         \"forcats\"           \"dplyr\"            \n",
              " [4] \"purrr\"             \"readr\"             \"tidyr\"            \n",
              " [7] \"tibble\"            \"tidyverse\"         \"ggthemes\"         \n",
              "[10] \"SentimentAnalysis\" \"SnowballC\"         \"ggplot2\"          \n",
              "[13] \"wordcloud\"         \"RColorBrewer\"      \"stringr\"          \n",
              "[16] \"tidytext\"          \"tm\"                \"NLP\"              \n",
              "[19] \"stats\"             \"graphics\"          \"grDevices\"        \n",
              "[22] \"utils\"             \"datasets\"          \"methods\"          \n",
              "[25] \"base\"             \n",
              "\n",
              "[[3]]\n",
              " [1] \"lubridate\"         \"forcats\"           \"dplyr\"            \n",
              " [4] \"purrr\"             \"readr\"             \"tidyr\"            \n",
              " [7] \"tibble\"            \"tidyverse\"         \"ggthemes\"         \n",
              "[10] \"SentimentAnalysis\" \"SnowballC\"         \"ggplot2\"          \n",
              "[13] \"wordcloud\"         \"RColorBrewer\"      \"stringr\"          \n",
              "[16] \"tidytext\"          \"tm\"                \"NLP\"              \n",
              "[19] \"stats\"             \"graphics\"          \"grDevices\"        \n",
              "[22] \"utils\"             \"datasets\"          \"methods\"          \n",
              "[25] \"base\"             \n",
              "\n",
              "[[4]]\n",
              " [1] \"lubridate\"         \"forcats\"           \"dplyr\"            \n",
              " [4] \"purrr\"             \"readr\"             \"tidyr\"            \n",
              " [7] \"tibble\"            \"tidyverse\"         \"ggthemes\"         \n",
              "[10] \"SentimentAnalysis\" \"SnowballC\"         \"ggplot2\"          \n",
              "[13] \"wordcloud\"         \"RColorBrewer\"      \"stringr\"          \n",
              "[16] \"tidytext\"          \"tm\"                \"NLP\"              \n",
              "[19] \"stats\"             \"graphics\"          \"grDevices\"        \n",
              "[22] \"utils\"             \"datasets\"          \"methods\"          \n",
              "[25] \"base\"             \n",
              "\n",
              "[[5]]\n",
              " [1] \"lubridate\"         \"forcats\"           \"dplyr\"            \n",
              " [4] \"purrr\"             \"readr\"             \"tidyr\"            \n",
              " [7] \"tibble\"            \"tidyverse\"         \"ggthemes\"         \n",
              "[10] \"SentimentAnalysis\" \"SnowballC\"         \"ggplot2\"          \n",
              "[13] \"wordcloud\"         \"RColorBrewer\"      \"stringr\"          \n",
              "[16] \"tidytext\"          \"tm\"                \"NLP\"              \n",
              "[19] \"stats\"             \"graphics\"          \"grDevices\"        \n",
              "[22] \"utils\"             \"datasets\"          \"methods\"          \n",
              "[25] \"base\"             \n",
              "\n",
              "[[6]]\n",
              " [1] \"lubridate\"         \"forcats\"           \"dplyr\"            \n",
              " [4] \"purrr\"             \"readr\"             \"tidyr\"            \n",
              " [7] \"tibble\"            \"tidyverse\"         \"ggthemes\"         \n",
              "[10] \"SentimentAnalysis\" \"SnowballC\"         \"ggplot2\"          \n",
              "[13] \"wordcloud\"         \"RColorBrewer\"      \"stringr\"          \n",
              "[16] \"tidytext\"          \"tm\"                \"NLP\"              \n",
              "[19] \"stats\"             \"graphics\"          \"grDevices\"        \n",
              "[22] \"utils\"             \"datasets\"          \"methods\"          \n",
              "[25] \"base\"             \n",
              "\n",
              "[[7]]\n",
              " [1] \"lubridate\"         \"forcats\"           \"dplyr\"            \n",
              " [4] \"purrr\"             \"readr\"             \"tidyr\"            \n",
              " [7] \"tibble\"            \"tidyverse\"         \"ggthemes\"         \n",
              "[10] \"SentimentAnalysis\" \"SnowballC\"         \"ggplot2\"          \n",
              "[13] \"wordcloud\"         \"RColorBrewer\"      \"stringr\"          \n",
              "[16] \"tidytext\"          \"tm\"                \"NLP\"              \n",
              "[19] \"stats\"             \"graphics\"          \"grDevices\"        \n",
              "[22] \"utils\"             \"datasets\"          \"methods\"          \n",
              "[25] \"base\"             \n",
              "\n",
              "[[8]]\n",
              " [1] \"lubridate\"         \"forcats\"           \"dplyr\"            \n",
              " [4] \"purrr\"             \"readr\"             \"tidyr\"            \n",
              " [7] \"tibble\"            \"tidyverse\"         \"ggthemes\"         \n",
              "[10] \"SentimentAnalysis\" \"SnowballC\"         \"ggplot2\"          \n",
              "[13] \"wordcloud\"         \"RColorBrewer\"      \"stringr\"          \n",
              "[16] \"tidytext\"          \"tm\"                \"NLP\"              \n",
              "[19] \"stats\"             \"graphics\"          \"grDevices\"        \n",
              "[22] \"utils\"             \"datasets\"          \"methods\"          \n",
              "[25] \"base\"             \n",
              "\n",
              "[[9]]\n",
              " [1] \"lubridate\"         \"forcats\"           \"dplyr\"            \n",
              " [4] \"purrr\"             \"readr\"             \"tidyr\"            \n",
              " [7] \"tibble\"            \"tidyverse\"         \"ggthemes\"         \n",
              "[10] \"SentimentAnalysis\" \"SnowballC\"         \"ggplot2\"          \n",
              "[13] \"wordcloud\"         \"RColorBrewer\"      \"stringr\"          \n",
              "[16] \"tidytext\"          \"tm\"                \"NLP\"              \n",
              "[19] \"stats\"             \"graphics\"          \"grDevices\"        \n",
              "[22] \"utils\"             \"datasets\"          \"methods\"          \n",
              "[25] \"base\"             \n",
              "\n",
              "[[10]]\n",
              " [1] \"lubridate\"         \"forcats\"           \"dplyr\"            \n",
              " [4] \"purrr\"             \"readr\"             \"tidyr\"            \n",
              " [7] \"tibble\"            \"tidyverse\"         \"ggthemes\"         \n",
              "[10] \"SentimentAnalysis\" \"SnowballC\"         \"ggplot2\"          \n",
              "[13] \"wordcloud\"         \"RColorBrewer\"      \"stringr\"          \n",
              "[16] \"tidytext\"          \"tm\"                \"NLP\"              \n",
              "[19] \"stats\"             \"graphics\"          \"grDevices\"        \n",
              "[22] \"utils\"             \"datasets\"          \"methods\"          \n",
              "[25] \"base\"             \n"
            ]
          },
          "metadata": {}
        }
      ]
    },
    {
      "cell_type": "code",
      "source": [
        "system(\"sudo apt install -y pandoc\")"
      ],
      "metadata": {
        "id": "7cShO5Ujgvfi"
      },
      "execution_count": 1,
      "outputs": []
    }
  ]
}