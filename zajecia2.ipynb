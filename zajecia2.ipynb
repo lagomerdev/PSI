{
  "nbformat": 4,
  "nbformat_minor": 0,
  "metadata": {
    "colab": {
      "provenance": [],
      "gpuType": "T4"
    },
    "kernelspec": {
      "name": "ir",
      "display_name": "R"
    },
    "language_info": {
      "name": "R"
    },
    "accelerator": "GPU"
  },
  "cells": [
    {
      "cell_type": "markdown",
      "source": [
        "# Zadanie 1"
      ],
      "metadata": {
        "id": "CV8gqe7RYNVB"
      }
    },
    {
      "cell_type": "code",
      "execution_count": null,
      "metadata": {
        "id": "zTMLUmzsTqkZ"
      },
      "outputs": [],
      "source": [
        "# Zadanie 1. Analiza pojedynczego zdania ----\n",
        "\n",
        "# Wczytaj dane tekstowe\n",
        "text <- \"And so even though we face the difficulties of today and tomorrow, I still have a dream.\"\n",
        "text\n",
        "\n",
        "# Sprawdź częstości słów za pomocą pakietu qdap\n",
        "install.packages(\"qdap\")\n",
        "library(qdap)\n",
        "\n",
        "freq_terms(text)\n",
        "\n",
        "# Zapisz najczęściej występujące terminy w ramce danych\n",
        "frequent_terms <- freq_terms(text)\n",
        "frequent_terms\n",
        "\n",
        "# Wizualizacja najczęściej występujących terminów\n",
        "plot(frequent_terms)\n",
        "\n",
        "# UWAGA\n",
        "# Słowa nie są wymienione w takiej kolejności, w jakiej występują w zdaniu\n",
        "# są prezentowane w porządku alfabetycznym.\n",
        "# Takie podejście nazywa się Bag of Words (torba słów).\n",
        "\n",
        "# Inne możliwości pakietu qdap\n",
        "?freq_terms\n",
        "\n",
        "# Wizualizacja za pomocą ggplot2\n",
        "library(ggplot2)\n",
        "\n",
        "ggplot(frequent_terms, aes(x = WORD, y = FREQ)) +\n",
        "  geom_bar(stat = \"identity\", fill = \"skyblue\") +\n",
        "  labs(x = \"Słowo\", y = \"Częstość\") +\n",
        "  theme(axis.text.x = element_text(angle = 45, hjust = 1)) +\n",
        "  ggtitle(\"Wykres częstości słów\")\n",
        "\n",
        "ggplot(frequent_terms, aes(y = WORD, x = FREQ)) +\n",
        "  geom_bar(stat = \"identity\", fill = \"skyblue\") +\n",
        "  labs(x = \"Słowo\", y = \"Częstość\") +\n",
        "  theme(axis.text.x = element_text(angle = 0, hjust = 1)) +\n",
        "  ggtitle(\"Wykres częstości słów\")\n",
        "\n",
        "# Bardziej atrakcyjna wizualizacja\n",
        "ggplot(frequent_terms, aes(x = FREQ, y = reorder(WORD, FREQ))) +\n",
        "  geom_bar(stat = \"identity\", fill = \"skyblue\", color = \"darkblue\", alpha = 0.8) +\n",
        "  labs(x = \"Częstość\", y = \"Słowo\") +\n",
        "  ggtitle(\"Wykres częstości słów\") +\n",
        "  theme_minimal() +\n",
        "  theme(axis.text.y = element_text(size = 10), # Dostosowanie rozmiaru czcionki etykiet na osi Y\n",
        "        plot.title = element_text(hjust = 0.5, size = 16, face = \"bold\"), # Wyśrodkowanie i stylizacja tytułu wykresu\n",
        "        panel.grid.major.y = element_blank(), # Usunięcie głównych linii siatki poziomej\n",
        "        panel.grid.minor.y = element_blank(), # Usunięcie mniejszych linii siatki poziomej\n",
        "        axis.line = element_line(color = \"black\")) # Dostosowanie linii osi\n",
        "\n",
        "# Stopwords (stop słowa – słowa do usunięcia)\n",
        "# Najczęściej występujące 25, 100 i 200 słów\n",
        "\n",
        "Top25Words\n",
        "Top100Words\n",
        "Top200Words\n",
        "\n",
        "# Usunięcie stop słów\n",
        "frequent_terms2 <- freq_terms(text, stopwords = Top25Words)\n",
        "frequent_terms3 <- freq_terms(text, stopwords = Top100Words)\n",
        "frequent_terms4 <- freq_terms(text, stopwords = Top200Words)\n",
        "\n",
        "plot(frequent_terms4)\n"
      ]
    },
    {
      "cell_type": "markdown",
      "source": [
        "# Zadanie 2"
      ],
      "metadata": {
        "id": "9asEVx9YU5PU"
      }
    },
    {
      "cell_type": "code",
      "source": [
        "text <- \"And so even though we face the difficulties of today and tomorrow, I still have a dream. It is a dream deeply rooted in the American dream.\"\n",
        "text\n",
        "\n",
        "frequent_terms <- freq_terms(text)\n",
        "frequent_terms\n",
        "frequent_terms <- freq_terms(text, stopwords = Top200Words)\n",
        "plot(frequent_terms)\n"
      ],
      "metadata": {
        "id": "AwrcdOrRUfCP"
      },
      "execution_count": null,
      "outputs": []
    },
    {
      "cell_type": "markdown",
      "source": [
        "# Zadanie 3"
      ],
      "metadata": {
        "id": "thNpVR29YVd8"
      }
    },
    {
      "cell_type": "code",
      "source": [
        "# Wczytaj dane tekstowe\n",
        "# Wczytaj plik tekstowy z lokalnego dysku\n",
        "text <- readLines(file.choose())\n",
        "text\n",
        "\n",
        "frequent_terms <- freq_terms(text)\n",
        "frequent_terms\n",
        "frequent_terms <- freq_terms(text, stopwords = Top200Words)\n",
        "plot(frequent_terms)\n",
        "\n",
        "# Tworzenie chmury słów za pomocą pakietu wordcloud\n",
        "install.packages(\"wordcloud\")\n",
        "library(wordcloud)\n",
        "\n",
        "# Utwórz chmurę słów\n",
        "wordcloud(frequent_terms$WORD, frequent_terms$FREQ)\n",
        "\n",
        "# Opcje chmury słów\n",
        "?wordcloud\n",
        "# Zmiana wartości min.freq i max.words w celu wyświetlenia mniejszej/większej liczby słów.\n",
        "# min.freq: słowa o częstości poniżej tej wartości nie będą wyświetlane\n",
        "# max.words: maksymalna liczba słów do wyświetlenia\n",
        "\n",
        "# Ograniczenie liczby słów w chmurze poprzez określenie minimalnej częstości\n",
        "wordcloud(frequent_terms$WORD, frequent_terms$FREQ, min.freq = 4)\n",
        "\n",
        "# Ograniczenie liczby słów w chmurze poprzez określenie maksymalnej liczby słów\n",
        "wordcloud(frequent_terms$WORD, frequent_terms$FREQ, max.words = 5)\n",
        "\n",
        "# Dodanie różnych palet kolorystycznych\n",
        "wordcloud(frequent_terms$WORD, frequent_terms$FREQ, min.freq = 4, colors = brewer.pal(9,\"Blues\"))\n",
        "wordcloud(frequent_terms$WORD, frequent_terms$FREQ, min.freq = 4, colors = brewer.pal(9,\"Reds\"))\n",
        "wordcloud(frequent_terms$WORD, frequent_terms$FREQ, min.freq = 4, colors = brewer.pal(9,\"Greens\"))\n",
        "\n",
        "# Optymalizacja i dostosowanie wyników\n",
        "# Dodanie koloru do chmury słów dla lepszej wizualizacji\n",
        "# Dodanie koloru\n",
        "wordcloud(frequent_terms$WORD, frequent_terms$FREQ, min.freq = 4, colors = brewer.pal(8,\"Dark2\"))\n",
        "# Dodanie koloru\n",
        "wordcloud(frequent_terms$WORD, frequent_terms$FREQ, max.words = 5, colors = brewer.pal(8,\"Accent\"))\n",
        "\n",
        "?brewer.pal\n",
        "brewer.pal.info\n"
      ],
      "metadata": {
        "colab": {
          "base_uri": "https://localhost:8080/",
          "height": 257
        },
        "id": "QlI6UuhEYXYa",
        "outputId": "0edb7b8e-c70b-4cf0-9afe-b803063850eb"
      },
      "execution_count": null,
      "outputs": [
        {
          "output_type": "error",
          "ename": "ERROR",
          "evalue": "Error in file(con, \"r\"): cannot open the connection\n",
          "traceback": [
            "Error in file(con, \"r\"): cannot open the connection\nTraceback:\n",
            "1. file(con, \"r\")",
            "2. .handleSimpleError(function (cnd) \n . {\n .     watcher$capture_plot_and_output()\n .     cnd <- sanitize_call(cnd)\n .     watcher$push(cnd)\n .     switch(on_error, continue = invokeRestart(\"eval_continue\"), \n .         stop = invokeRestart(\"eval_stop\"), error = NULL)\n . }, \"cannot open the connection\", base::quote(file(con, \"r\")))"
          ]
        }
      ]
    }
  ]
}